{
 "cells": [
  {
   "cell_type": "code",
   "execution_count": null,
   "metadata": {},
   "outputs": [],
   "source": [
    "!pip install TA-Lib\n",
    "!pip install yfinance"
   ]
  },
  {
   "cell_type": "code",
   "execution_count": null,
   "metadata": {},
   "outputs": [],
   "source": [
    "import talib\n",
    "import yfinance as yf\n",
    "\n",
    "# Load historical stock data\n",
    "symbol = \"AAPL\"\n",
    "start_date = \"2022-01-01\"\n",
    "end_date = \"2023-01-01\"\n",
    "stock_data = yf.download(symbol, start=start_date, end=end_date)\n",
    "\n",
    "# Calculate the 50-day and 200-day SMAs\n",
    "stock_data['SMA_50'] = talib.SMA(stock_data['Close'], timeperiod=50)\n",
    "stock_data['SMA_200'] = talib.SMA(stock_data['Close'], timeperiod=200)\n",
    "\n",
    "# Display the data with moving averages\n",
    "print(stock_data[['Close', 'SMA_50', 'SMA_200']].tail())"
   ]
  }
 ],
 "metadata": {
  "kernelspec": {
   "display_name": "Python 3",
   "language": "python",
   "name": "python3"
  },
  "language_info": {
   "name": "python",
   "version": "3.9.13 (tags/v3.9.13:6de2ca5, May 17 2022, 16:36:42) [MSC v.1929 64 bit (AMD64)]"
  },
  "orig_nbformat": 4,
  "vscode": {
   "interpreter": {
    "hash": "b632dcc83ff5927942d6d9ce4967f5155bb6ecfd8a74c01d0bb5eeb3cc54d9f0"
   }
  }
 },
 "nbformat": 4,
 "nbformat_minor": 2
}
